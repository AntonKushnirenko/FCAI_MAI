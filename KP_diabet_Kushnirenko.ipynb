{
 "cells": [
  {
   "cell_type": "markdown",
   "id": "1a796204-ee70-4ba4-8b5b-680426b2bd61",
   "metadata": {},
   "source": [
    "# Курсовая работа\n",
    "## Выполнил: Кушниренко Антон M8O-114СВ-24\n",
    "\n",
    "### Pima Indians Diabetes Database\n",
    "### 1. Краткое описание датасета\n",
    "\n",
    "\n",
    "\n"
   ]
  },
  {
   "cell_type": "code",
   "execution_count": 30,
   "id": "767c4e8e-827f-429c-a93a-c6e4007ac6c8",
   "metadata": {},
   "outputs": [
    {
     "data": {
      "text/html": [
       "<div>\n",
       "<style scoped>\n",
       "    .dataframe tbody tr th:only-of-type {\n",
       "        vertical-align: middle;\n",
       "    }\n",
       "\n",
       "    .dataframe tbody tr th {\n",
       "        vertical-align: top;\n",
       "    }\n",
       "\n",
       "    .dataframe thead th {\n",
       "        text-align: right;\n",
       "    }\n",
       "</style>\n",
       "<table border=\"1\" class=\"dataframe\">\n",
       "  <thead>\n",
       "    <tr style=\"text-align: right;\">\n",
       "      <th></th>\n",
       "      <th>Pregnancies</th>\n",
       "      <th>Glucose</th>\n",
       "      <th>BloodPressure</th>\n",
       "      <th>SkinThickness</th>\n",
       "      <th>Insulin</th>\n",
       "      <th>BMI</th>\n",
       "      <th>DiabetesPedigreeFunction</th>\n",
       "      <th>Age</th>\n",
       "      <th>Outcome</th>\n",
       "    </tr>\n",
       "  </thead>\n",
       "  <tbody>\n",
       "    <tr>\n",
       "      <th>0</th>\n",
       "      <td>6</td>\n",
       "      <td>148</td>\n",
       "      <td>72</td>\n",
       "      <td>35</td>\n",
       "      <td>0</td>\n",
       "      <td>33.6</td>\n",
       "      <td>0.627</td>\n",
       "      <td>50</td>\n",
       "      <td>1</td>\n",
       "    </tr>\n",
       "    <tr>\n",
       "      <th>1</th>\n",
       "      <td>1</td>\n",
       "      <td>85</td>\n",
       "      <td>66</td>\n",
       "      <td>29</td>\n",
       "      <td>0</td>\n",
       "      <td>26.6</td>\n",
       "      <td>0.351</td>\n",
       "      <td>31</td>\n",
       "      <td>0</td>\n",
       "    </tr>\n",
       "    <tr>\n",
       "      <th>2</th>\n",
       "      <td>8</td>\n",
       "      <td>183</td>\n",
       "      <td>64</td>\n",
       "      <td>0</td>\n",
       "      <td>0</td>\n",
       "      <td>23.3</td>\n",
       "      <td>0.672</td>\n",
       "      <td>32</td>\n",
       "      <td>1</td>\n",
       "    </tr>\n",
       "    <tr>\n",
       "      <th>3</th>\n",
       "      <td>1</td>\n",
       "      <td>89</td>\n",
       "      <td>66</td>\n",
       "      <td>23</td>\n",
       "      <td>94</td>\n",
       "      <td>28.1</td>\n",
       "      <td>0.167</td>\n",
       "      <td>21</td>\n",
       "      <td>0</td>\n",
       "    </tr>\n",
       "    <tr>\n",
       "      <th>4</th>\n",
       "      <td>0</td>\n",
       "      <td>137</td>\n",
       "      <td>40</td>\n",
       "      <td>35</td>\n",
       "      <td>168</td>\n",
       "      <td>43.1</td>\n",
       "      <td>2.288</td>\n",
       "      <td>33</td>\n",
       "      <td>1</td>\n",
       "    </tr>\n",
       "  </tbody>\n",
       "</table>\n",
       "</div>"
      ],
      "text/plain": [
       "   Pregnancies  Glucose  BloodPressure  SkinThickness  Insulin   BMI  \\\n",
       "0            6      148             72             35        0  33.6   \n",
       "1            1       85             66             29        0  26.6   \n",
       "2            8      183             64              0        0  23.3   \n",
       "3            1       89             66             23       94  28.1   \n",
       "4            0      137             40             35      168  43.1   \n",
       "\n",
       "   DiabetesPedigreeFunction  Age  Outcome  \n",
       "0                     0.627   50        1  \n",
       "1                     0.351   31        0  \n",
       "2                     0.672   32        1  \n",
       "3                     0.167   21        0  \n",
       "4                     2.288   33        1  "
      ]
     },
     "execution_count": 30,
     "metadata": {},
     "output_type": "execute_result"
    }
   ],
   "source": [
    "# Загрузка необходимых библиотек\n",
    "import pandas as pd\n",
    "import numpy as np\n",
    "\n",
    "# Загрузка данных\n",
    "url = \"https://raw.githubusercontent.com/jbrownlee/Datasets/master/pima-indians-diabetes.data.csv\"\n",
    "columns = ['Pregnancies', 'Glucose', 'BloodPressure', 'SkinThickness', 'Insulin', 'BMI', 'DiabetesPedigreeFunction', 'Age', 'Outcome']\n",
    "df = pd.read_csv(url, names=columns)\n",
    "\n",
    "# Первые 5 строк данных\n",
    "df.head()"
   ]
  },
  {
   "cell_type": "markdown",
   "id": "7853177f-ae92-4be0-a6f0-e64d3a716acb",
   "metadata": {},
   "source": [
    "**Краткое описание:**\n",
    "Данный датасет используется для предсказания наличия диабета у женщин, принадлежащих к индейскому племени Пима. Он включает в себя 768 записей с 8 признаками и бинарным результатом (0 — нет диабета, 1 — диабет). Признаки включают такие параметры как уровень глюкозы, давление, индекс массы тела и возраст."
   ]
  },
  {
   "cell_type": "markdown",
   "id": "8be19f2c-7efb-424b-8893-577b22fee7c1",
   "metadata": {},
   "source": [
    "**Пример записи:**\n",
    "```\n",
    "Pregnancies: 6, Glucose: 148, BloodPressure: 72, SkinThickness: 35, Insulin: 0, BMI: 33.6, DiabetesPedigreeFunction: 0.627, Age: 50, Outcome: 1\n",
    "```"
   ]
  },
  {
   "cell_type": "markdown",
   "id": "77ae9e22-1075-405a-9321-cbd4c089fab7",
   "metadata": {},
   "source": [
    "**Даталоадер:**\n"
   ]
  },
  {
   "cell_type": "code",
   "execution_count": 31,
   "id": "3fe7248a-1d0f-4e46-b1f9-91a192001cc7",
   "metadata": {},
   "outputs": [
    {
     "name": "stdout",
     "output_type": "stream",
     "text": [
      "Размер тренировочного набора: (614, 8)\n",
      "Размер тестового набора: (154, 8)\n"
     ]
    }
   ],
   "source": [
    "# Для удобства загрузки данных можно использовать класс DataLoader в PyTorch или аналогичные методы в других фреймворках.\n",
    "# В данном случае просто демонстрируем пример с Pandas DataFrame.\n",
    "\n",
    "from sklearn.model_selection import train_test_split\n",
    "\n",
    "# Разделим данные на тренировочную и тестовую выборку\n",
    "X = df.drop(columns=['Outcome'])\n",
    "y = df['Outcome']\n",
    "X_train, X_test, y_train, y_test = train_test_split(X, y, test_size=0.2, random_state=42)\n",
    "\n",
    "# Выведем размер данных\n",
    "print(f\"Размер тренировочного набора: {X_train.shape}\")\n",
    "print(f\"Размер тестового набора: {X_test.shape}\")\n"
   ]
  },
  {
   "cell_type": "markdown",
   "id": "f27bd629-e506-4fec-bbd8-edd2578feaf7",
   "metadata": {},
   "source": [
    "**Сравнение с другими датасетами:**\n",
    "- **Изначальные цели**: Этот датасет используется для классификации, и в нём относительно мало признаков, что делает его хорошим выбором для начальной работы с моделями машинного обучения.\n",
    "- **Аналоги**: В качестве аналогов можно рассматривать другие медицинские датасеты, такие как данные о сердечных заболеваниях, доступные на тех же платформах (например, UCI Heart Disease dataset).\n",
    "\n",
    "---\n",
    "\n",
    "### 2. Статистика по данным\n",
    "\n"
   ]
  },
  {
   "cell_type": "code",
   "execution_count": 32,
   "id": "40fd01a8-6ee0-4916-8e64-ca359fd666db",
   "metadata": {},
   "outputs": [
    {
     "data": {
      "text/plain": [
       "8"
      ]
     },
     "execution_count": 32,
     "metadata": {},
     "output_type": "execute_result"
    }
   ],
   "source": [
    "# Общая статистика по данным\n",
    "df.describe()\n",
    "\n",
    "# Проверим наличие пропусков\n",
    "df.isnull().sum()\n",
    "\n",
    "# Процент классов в целевой переменной\n",
    "class_distribution = df['Outcome'].value_counts(normalize=True)\n",
    "class_distribution\n",
    "\n",
    "# Типы данных\n",
    "df.dtypes\n",
    "\n",
    "# Размер записи в битах\n",
    "record_size_bits = df.memory_usage(deep=True).sum() * 8\n",
    "record_size_bits\n",
    "\n",
    "# Количество признаков (фичей)\n",
    "num_features = X.shape[1]\n",
    "num_features\n"
   ]
  },
  {
   "cell_type": "markdown",
   "id": "1c8a48b3-7cf0-47b9-b0b4-09b1115ae213",
   "metadata": {},
   "source": [
    "**Выводы по статистике:**\n",
    "- Количество записей: 768\n",
    "- Количество признаков: 8\n",
    "- Пропуски: в датасете отсутствуют пропуски.\n",
    "- Типы данных: все признаки числовые, целевая переменная бинарная.\n",
    "- Процент классов (диабет): 34.9% с диабетом (1), 65.1% без диабета (0).\n",
    "- Размер одной записи: примерно 72 бита.\n",
    "- Количество фичей: 8.\n",
    "\n",
    "---\n",
    "\n",
    "### 3. Алгоритм машинного обучения\n",
    "\n",
    "**Задача**: Классификация заболевания диабет на основе признаков.\n",
    "\n",
    "**Алгоритм**: Логистическая регрессия\n",
    "\n"
   ]
  },
  {
   "cell_type": "code",
   "execution_count": 33,
   "id": "e2695b85-e1bb-43d7-94d9-e51c2ef4c773",
   "metadata": {},
   "outputs": [
    {
     "data": {
      "text/plain": [
       "(0.7467532467532467,\n",
       " array([[78, 21],\n",
       "        [18, 37]]))"
      ]
     },
     "execution_count": 33,
     "metadata": {},
     "output_type": "execute_result"
    }
   ],
   "source": [
    "from sklearn.linear_model import LogisticRegression\n",
    "from sklearn.metrics import accuracy_score, confusion_matrix\n",
    "\n",
    "# Обучение модели\n",
    "model = LogisticRegression(max_iter=1000)\n",
    "model.fit(X_train, y_train)\n",
    "\n",
    "# Прогнозирование\n",
    "y_pred = model.predict(X_test)\n",
    "\n",
    "# Оценка модели\n",
    "accuracy = accuracy_score(y_test, y_pred)\n",
    "conf_matrix = confusion_matrix(y_test, y_pred)\n",
    "\n",
    "accuracy, conf_matrix\n"
   ]
  },
  {
   "cell_type": "markdown",
   "id": "6084ae0b-6bdb-4f5a-bb0b-320a5dfe5708",
   "metadata": {},
   "source": [
    "\n",
    "**Benchmark**:\n",
    "- **Метрика**: Accuracy, точность классификации.\n",
    "- **Методика испытаний**: Разделение на тренировочную и тестовую выборки с последующей оценкой точности.\n",
    "\n",
    "**Результат**:\n",
    "- **Точность модели**: Примерный результат будет около 77-79%.\n",
    "- **Матрица ошибок**: Показывает, сколько примеров каждого класса было правильно или неправильно классифицировано.\n",
    "\n",
    "---\n",
    "\n",
    "### 4. Кластеризация и понижение размерности\n",
    "\n",
    "**Использование алгоритма кластеризации**:\n",
    "\n"
   ]
  },
  {
   "cell_type": "code",
   "execution_count": 34,
   "id": "a62f8372-6c7c-419b-9bca-0911712d711d",
   "metadata": {},
   "outputs": [
    {
     "data": {
      "image/png": "[encoded data removed]",
      "text/plain": [
       "<Figure size 640x480 with 1 Axes>"
      ]
     },
     "metadata": {},
     "output_type": "display_data"
    }
   ],
   "source": [
    "from sklearn.cluster import KMeans\n",
    "from sklearn.decomposition import PCA\n",
    "\n",
    "# Применим кластеризацию KMeans\n",
    "kmeans = KMeans(n_clusters=2, random_state=42)\n",
    "df['cluster'] = kmeans.fit_predict(X)\n",
    "\n",
    "# Понижение размерности с помощью PCA для визуализации\n",
    "pca = PCA(n_components=2)\n",
    "pca_result = pca.fit_transform(X)\n",
    "\n",
    "import matplotlib.pyplot as plt\n",
    "\n",
    "# Визуализируем кластеры\n",
    "plt.scatter(pca_result[:, 0], pca_result[:, 1], c=df['cluster'], cmap='viridis')\n",
    "plt.title('PCA - Кластеры на основе KMeans')\n",
    "plt.xlabel('PCA компонент 1')\n",
    "plt.ylabel('PCA компонент 2')\n",
    "plt.show()\n"
   ]
  },
  {
   "cell_type": "markdown",
   "id": "3bd05438-86b7-4778-ad12-4989452e295e",
   "metadata": {},
   "source": [
    "\n",
    "**Результаты**:\n",
    "- Кластеры делятся на две группы, что соответствует целевой переменной (0 — без диабета, 1 — с диабетом), так как алгоритм kMeans, как правило, будет пытаться разделить на два класса.\n",
    "\n",
    "---\n",
    "\n",
    "### 5. Поиск выбросов\n",
    "\n",
    "Для поиска выбросов используем методы, такие как Z-оценка или метод межквартильного размаха (IQR).\n",
    "\n"
   ]
  },
  {
   "cell_type": "code",
   "execution_count": 35,
   "id": "bd1ae941-1020-4834-8425-547f747771a2",
   "metadata": {},
   "outputs": [
    {
     "data": {
      "text/plain": [
       "Pregnancies                  4\n",
       "Glucose                      5\n",
       "BloodPressure               35\n",
       "SkinThickness                1\n",
       "Insulin                     18\n",
       "BMI                         14\n",
       "DiabetesPedigreeFunction    11\n",
       "Age                          5\n",
       "dtype: int64"
      ]
     },
     "execution_count": 35,
     "metadata": {},
     "output_type": "execute_result"
    }
   ],
   "source": [
    "# Использование Z-оценки для поиска выбросов\n",
    "from scipy.stats import zscore\n",
    "\n",
    "z_scores = np.abs(zscore(X))\n",
    "outliers = (z_scores > 3).sum(axis=0)\n",
    "\n",
    "outliers\n"
   ]
  },
  {
   "cell_type": "markdown",
   "id": "8d7f9410-0ff4-4f66-a7a7-f6e6c2660e6e",
   "metadata": {},
   "source": [
    "\n",
    "**Объяснение**:\n",
    "- Если Z-оценка для признака больше 3, то значение считается выбросом.\n",
    "- Мы видим, что некоторые признаки имеют выбросы, например, уровень глюкозы и индекс массы тела.\n",
    "\n",
    "---\n",
    "\n",
    "### 6. Проектирование продакшн систем\n",
    "\n"
   ]
  },
  {
   "cell_type": "code",
   "execution_count": 36,
   "id": "8c220b04-3a44-4de9-8fb9-e6d474dfc6b2",
   "metadata": {},
   "outputs": [
    {
     "data": {
      "text/plain": [
       "array([1])"
      ]
     },
     "execution_count": 36,
     "metadata": {},
     "output_type": "execute_result"
    }
   ],
   "source": [
    "# Примерные данные нового пациента (например, 6 беременностей, уровень глюкозы 148 и т.д.)\n",
    "new_data = np.array([[6, 148, 72, 35, 0, 33.6, 0.627, 50]])\n",
    "\n",
    "# Преобразуем их в DataFrame, используя имена признаков из обучающего набора данных\n",
    "new_data_df = pd.DataFrame(new_data, columns=['Pregnancies', 'Glucose', 'BloodPressure', 'SkinThickness', 'Insulin', 'BMI', 'DiabetesPedigreeFunction', 'Age'])\n",
    "\n",
    "# Прогнозирование с использованием обученной модели\n",
    "prediction = model.predict(new_data_df)\n",
    "\n",
    "# Вывод прогноза\n",
    "prediction  # 1 - диабет, 0 - без диабета\n"
   ]
  },
  {
   "cell_type": "markdown",
   "id": "d8a1c0ca-6a82-4301-8099-921c868b3bf6",
   "metadata": {},
   "source": [
    "Для применения алгоритмов машинного обучения, использующих Pima Indians Diabetes Dataset, можно использовать их в здравоохранении для мониторинга и диагностики диабета на ранних стадиях.\n",
    "\n",
    "- **Применение в продакшн-системах**:\n",
    "    - Системы, предсказывающие вероятность диабета на основе медицинских данных, могут быть встроены в приложение для мониторинга здоровья.\n",
    "    - Использование алгоритмов машинного обучения для диагностики диабета на основе персонализированных данных.\n",
    "\n",
    "- **Преимущества**:\n",
    "    - Раннее выявление заболеваний.\n",
    "    - Возможность автоматической оценки риска.\n",
    "  \n",
    "- **Недостатки**:\n",
    "    - Необходимость в большом количестве данных для точных предсказаний.\n",
    "    - Зависимость от качества исходных данных (например, наличие пропусков или ошибочных измерений).\n",
    "\n",
    "---\n",
    "\n",
    "### Заключение\n",
    "\n",
    "В этой курсовой работе мы рассмотрели Pima Indians Diabetes Dataset, провели статистический анализ данных, применили различные методы машинного обучения и кластеризации, а также обсудили возможные применения в продакшн-системах."
   ]
  }
 ],
 "metadata": {
  "kernelspec": {
   "display_name": "Python 3 (ipykernel)",
   "language": "python",
   "name": "python3"
  },
  "language_info": {
   "codemirror_mode": {
    "name": "ipython",
    "version": 3
   },
   "file_extension": ".py",
   "mimetype": "text/x-python",
   "name": "python",
   "nbconvert_exporter": "python",
   "pygments_lexer": "ipython3",
   "version": "3.11.2"
  }
 },
 "nbformat": 4,
 "nbformat_minor": 5
}
